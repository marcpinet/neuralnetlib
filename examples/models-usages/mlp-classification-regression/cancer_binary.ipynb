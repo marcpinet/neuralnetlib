{
 "cells": [
  {
   "cell_type": "markdown",
   "metadata": {},
   "source": [
    "# Simple cancer binary classification"
   ]
  },
  {
   "cell_type": "markdown",
   "metadata": {
    "tags": []
   },
   "source": [
    "## Imports"
   ]
  },
  {
   "cell_type": "code",
   "execution_count": 1,
   "metadata": {
    "ExecuteTime": {
     "end_time": "2024-11-14T19:02:51.038291600Z",
     "start_time": "2024-11-14T19:02:50.285199900Z"
    }
   },
   "outputs": [],
   "source": [
    "from sklearn.datasets import load_breast_cancer\n",
    "\n",
    "from neuralnetlib.preprocessing import StandardScaler\n",
    "from neuralnetlib.activations import Sigmoid, ReLU\n",
    "from neuralnetlib.models import Sequential\n",
    "from neuralnetlib.layers import Input, Activation, Dense, BatchNormalization\n",
    "from neuralnetlib.callbacks import EarlyStopping\n",
    "from neuralnetlib.losses import BinaryCrossentropy\n",
    "from neuralnetlib.optimizers import Adam\n",
    "from neuralnetlib.metrics import accuracy_score, f1_score, recall_score, precision_score\n",
    "from neuralnetlib.utils import train_test_split"
   ]
  },
  {
   "cell_type": "code",
   "execution_count": 2,
   "metadata": {},
   "outputs": [
    {
     "data": {
      "text/plain": [
       "'4.3.6'"
      ]
     },
     "execution_count": 2,
     "metadata": {},
     "output_type": "execute_result"
    }
   ],
   "source": [
    "import neuralnetlib\n",
    "neuralnetlib.__version__"
   ]
  },
  {
   "cell_type": "markdown",
   "metadata": {},
   "source": [
    "## 1. Loading a dataset (in this case, Breast Cancer dataset)"
   ]
  },
  {
   "cell_type": "code",
   "execution_count": 2,
   "metadata": {
    "ExecuteTime": {
     "end_time": "2024-11-14T19:02:51.070518700Z",
     "start_time": "2024-11-14T19:02:51.039292200Z"
    }
   },
   "outputs": [],
   "source": [
    "data = load_breast_cancer()\n",
    "X, y = data.data, data.target"
   ]
  },
  {
   "cell_type": "markdown",
   "metadata": {},
   "source": [
    "## 2. Preprocessing"
   ]
  },
  {
   "cell_type": "code",
   "execution_count": 3,
   "metadata": {
    "ExecuteTime": {
     "end_time": "2024-11-14T19:02:51.085591500Z",
     "start_time": "2024-11-14T19:02:51.070518700Z"
    }
   },
   "outputs": [],
   "source": [
    "x_train, x_test, y_train, y_test = train_test_split(X, y, test_size=0.2, random_state=42)\n",
    "scaler = StandardScaler()\n",
    "x_train = scaler.fit_transform(x_train)\n",
    "x_test = scaler.transform(x_test)"
   ]
  },
  {
   "cell_type": "markdown",
   "metadata": {},
   "source": [
    "## 3. Model definition"
   ]
  },
  {
   "cell_type": "code",
   "execution_count": 4,
   "metadata": {
    "ExecuteTime": {
     "end_time": "2024-11-14T19:02:51.103621200Z",
     "start_time": "2024-11-14T19:02:51.087591400Z"
    }
   },
   "outputs": [],
   "source": [
    "input_neurons = x_train.shape[1:][0]  # Cancer dataset has 30 features\n",
    "num_hidden_layers = 5  # Number of hidden layers\n",
    "hidden_neurons = 100  # Number of neurons in each hidden layer\n",
    "output_neurons = 1  # Binary classification-regression\n",
    "\n",
    "model = Sequential()\n",
    "model.add(Input(input_neurons))\n",
    "model.add(Dense(hidden_neurons, weights_init='he_uniform', random_state=42))\n",
    "model.add(Activation(ReLU()))\n",
    "\n",
    "for _ in range(num_hidden_layers - 1):\n",
    "    model.add(Dense(hidden_neurons, weights_init='he_uniform', random_state=42))\n",
    "    model.add(BatchNormalization())\n",
    "    model.add(Activation(ReLU()))\n",
    "\n",
    "model.add(Dense(output_neurons, random_state=42))\n",
    "model.add(Activation(Sigmoid()))"
   ]
  },
  {
   "cell_type": "markdown",
   "metadata": {},
   "source": [
    "## 4. Model compilation"
   ]
  },
  {
   "cell_type": "code",
   "execution_count": 5,
   "metadata": {
    "ExecuteTime": {
     "end_time": "2024-11-14T19:02:51.115637600Z",
     "start_time": "2024-11-14T19:02:51.101111900Z"
    }
   },
   "outputs": [
    {
     "name": "stdout",
     "output_type": "stream",
     "text": [
      "Sequential(gradient_clip_threshold=5.0, enable_padding=False, padding_size=32, random_state=1733514982124278900)\n",
      "-------------------------------------------------\n",
      "Layer 1: Input(input_shape=(30,))\n",
      "Layer 2: Dense(units=100)\n",
      "Layer 3: Activation(ReLU)\n",
      "Layer 4: Dense(units=100)\n",
      "Layer 5: BatchNormalization(momentum=0.9, epsilon=1e-05)\n",
      "Layer 6: Activation(ReLU)\n",
      "Layer 7: Dense(units=100)\n",
      "Layer 8: BatchNormalization(momentum=0.9, epsilon=1e-05)\n",
      "Layer 9: Activation(ReLU)\n",
      "Layer 10: Dense(units=100)\n",
      "Layer 11: BatchNormalization(momentum=0.9, epsilon=1e-05)\n",
      "Layer 12: Activation(ReLU)\n",
      "Layer 13: Dense(units=100)\n",
      "Layer 14: BatchNormalization(momentum=0.9, epsilon=1e-05)\n",
      "Layer 15: Activation(ReLU)\n",
      "Layer 16: Dense(units=1)\n",
      "Layer 17: Activation(Sigmoid)\n",
      "-------------------------------------------------\n",
      "Loss function: BinaryCrossentropy\n",
      "Optimizer: Adam(learning_rate=0.0001, beta_1=0.9, beta_2=0.999, epsilon=1e-08, clip_norm=None, clip_value=None)\n",
      "-------------------------------------------------\n",
      "\n"
     ]
    }
   ],
   "source": [
    "model.compile(loss_function=BinaryCrossentropy(), optimizer=Adam(learning_rate=0.0001))\n",
    "\n",
    "model.summary()"
   ]
  },
  {
   "cell_type": "markdown",
   "metadata": {},
   "source": [
    "## 5. Model training"
   ]
  },
  {
   "cell_type": "code",
   "execution_count": 6,
   "metadata": {
    "ExecuteTime": {
     "end_time": "2024-11-14T19:03:26.632410100Z",
     "start_time": "2024-11-14T19:02:51.117636900Z"
    }
   },
   "outputs": [
    {
     "name": "stdout",
     "output_type": "stream",
     "text": [
      "[==============================] 100% Epoch 1/40 - 0.07s - loss: 0.7299 - accuracy: 0.5275\n",
      "[==============================] 100% Epoch 2/40 - 0.08s - loss: 0.5481 - accuracy: 0.6923\n",
      "[==============================] 100% Epoch 3/40 - 0.08s - loss: 0.3936 - accuracy: 0.8418\n",
      "[==============================] 100% Epoch 4/40 - 0.08s - loss: 0.2973 - accuracy: 0.9011\n",
      "[==============================] 100% Epoch 5/40 - 0.07s - loss: 0.2367 - accuracy: 0.9231\n",
      "[==============================] 100% Epoch 6/40 - 0.08s - loss: 0.1948 - accuracy: 0.9495\n",
      "[==============================] 100% Epoch 7/40 - 0.07s - loss: 0.1642 - accuracy: 0.9538\n",
      "[==============================] 100% Epoch 8/40 - 0.07s - loss: 0.1410 - accuracy: 0.9604\n",
      "[==============================] 100% Epoch 9/40 - 0.08s - loss: 0.1227 - accuracy: 0.9626\n",
      "[==============================] 100% Epoch 10/40 - 0.07s - loss: 0.1086 - accuracy: 0.9648\n",
      "[==============================] 100% Epoch 11/40 - 0.07s - loss: 0.0978 - accuracy: 0.9648\n",
      "[==============================] 100% Epoch 12/40 - 0.07s - loss: 0.0889 - accuracy: 0.9692\n",
      "[==============================] 100% Epoch 13/40 - 0.07s - loss: 0.0818 - accuracy: 0.9714\n",
      "[==============================] 100% Epoch 14/40 - 0.08s - loss: 0.0755 - accuracy: 0.9714\n",
      "[==============================] 100% Epoch 15/40 - 0.07s - loss: 0.0697 - accuracy: 0.9714\n",
      "[==============================] 100% Epoch 16/40 - 0.07s - loss: 0.0648 - accuracy: 0.9714\n",
      "[==============================] 100% Epoch 17/40 - 0.07s - loss: 0.0608 - accuracy: 0.9714\n",
      "[==============================] 100% Epoch 18/40 - 0.07s - loss: 0.0573 - accuracy: 0.9714\n",
      "[==============================] 100% Epoch 19/40 - 0.07s - loss: 0.0540 - accuracy: 0.9736\n",
      "[==============================] 100% Epoch 20/40 - 0.07s - loss: 0.0508 - accuracy: 0.9736\n",
      "[==============================] 100% Epoch 21/40 - 0.08s - loss: 0.0480 - accuracy: 0.9736\n",
      "[==============================] 100% Epoch 22/40 - 0.07s - loss: 0.0454 - accuracy: 0.9780\n",
      "[==============================] 100% Epoch 23/40 - 0.07s - loss: 0.0432 - accuracy: 0.9824\n",
      "[==============================] 100% Epoch 24/40 - 0.07s - loss: 0.0412 - accuracy: 0.9846\n",
      "[==============================] 100% Epoch 25/40 - 0.07s - loss: 0.0392 - accuracy: 0.9846\n",
      "[==============================] 100% Epoch 26/40 - 0.07s - loss: 0.0373 - accuracy: 0.9846\n",
      "[==============================] 100% Epoch 27/40 - 0.07s - loss: 0.0358 - accuracy: 0.9846\n",
      "[==============================] 100% Epoch 28/40 - 0.08s - loss: 0.0341 - accuracy: 0.9868\n",
      "[==============================] 100% Epoch 29/40 - 0.07s - loss: 0.0325 - accuracy: 0.9890\n",
      "[==============================] 100% Epoch 30/40 - 0.07s - loss: 0.0308 - accuracy: 0.9890\n",
      "[==============================] 100% Epoch 31/40 - 0.07s - loss: 0.0293 - accuracy: 0.9890\n",
      "[==============================] 100% Epoch 32/40 - 0.07s - loss: 0.0280 - accuracy: 0.9890\n",
      "[==============================] 100% Epoch 33/40 - 0.08s - loss: 0.0267 - accuracy: 0.9912\n",
      "[==============================] 100% Epoch 34/40 - 0.07s - loss: 0.0254 - accuracy: 0.9934\n",
      "[==============================] 100% Epoch 35/40 - 0.06s - loss: 0.0243 - accuracy: 0.9934\n",
      "[==============================] 100% Epoch 36/40 - 0.07s - loss: 0.0232 - accuracy: 0.9934\n",
      "[==============================] 100% Epoch 37/40 - 0.07s - loss: 0.0220 - accuracy: 0.9934\n",
      "[==============================] 100% Epoch 38/40 - 0.07s - loss: 0.0209 - accuracy: 0.9934\n",
      "[==============================] 100% Epoch 39/40 - 0.07s - loss: 0.0199 - accuracy: 0.9934\n",
      "[==============================] 100% Epoch 40/40 - 0.07s - loss: 0.0190 - accuracy: 0.9934\n",
      "\n"
     ]
    }
   ],
   "source": [
    "early_stopping = EarlyStopping(patience=5, min_delta=0.001, restore_best_weights=True)\n",
    "\n",
    "history = model.fit(x_train, y_train, epochs=40, batch_size=48, random_state=42, plot_decision_boundary=True,\n",
    "          callbacks=[], metrics=[\"accuracy\"])  # Here, the early stopping will stop the training if the loss does not decrease\n",
    "\n",
    "# You could specify a different metric because loss is the default one\n",
    "\n",
    "# In this context, accuracy_score would have stopped at epoch 10"
   ]
  },
  {
   "cell_type": "markdown",
   "metadata": {},
   "source": [
    "## 6. Model evaluation"
   ]
  },
  {
   "cell_type": "code",
   "execution_count": 7,
   "metadata": {
    "ExecuteTime": {
     "end_time": "2024-11-14T19:03:26.689267600Z",
     "start_time": "2024-11-14T19:03:26.615487300Z"
    }
   },
   "outputs": [
    {
     "name": "stdout",
     "output_type": "stream",
     "text": [
      "Test loss: 3.6060167913973595\n"
     ]
    }
   ],
   "source": [
    "loss, _ = model.evaluate(x_test, y_test)\n",
    "print(f'Test loss: {loss}')"
   ]
  },
  {
   "cell_type": "markdown",
   "metadata": {},
   "source": [
    "## 7. Model prediction"
   ]
  },
  {
   "cell_type": "code",
   "execution_count": 8,
   "metadata": {
    "ExecuteTime": {
     "end_time": "2024-11-14T19:03:26.692272200Z",
     "start_time": "2024-11-14T19:03:26.662694700Z"
    }
   },
   "outputs": [],
   "source": [
    "y_pred = model.predict(x_test)"
   ]
  },
  {
   "cell_type": "markdown",
   "metadata": {},
   "source": [
    "## 8. Printing some metrics"
   ]
  },
  {
   "cell_type": "code",
   "execution_count": 9,
   "metadata": {
    "ExecuteTime": {
     "end_time": "2024-11-14T19:03:26.692272200Z",
     "start_time": "2024-11-14T19:03:26.678224300Z"
    }
   },
   "outputs": [
    {
     "name": "stdout",
     "output_type": "stream",
     "text": [
      "Accuracy: 0.9824561403508771\n",
      "Precision: 1.0\n",
      "Recall: 0.9722222222222222\n",
      "F1 Score: 0.9859154929577464\n"
     ]
    }
   ],
   "source": [
    "accuracy = accuracy_score(y_pred, y_test)\n",
    "precision = precision_score(y_pred, y_test)\n",
    "recall = recall_score(y_pred, y_test)\n",
    "f1 = f1_score(y_pred, y_test)\n",
    "\n",
    "print(f\"Accuracy: {accuracy}\")\n",
    "print(f\"Precision: {precision}\")\n",
    "print(f\"Recall: {recall}\")\n",
    "print(f\"F1 Score: {f1}\")"
   ]
  }
 ],
 "metadata": {
  "kernelspec": {
   "display_name": "Python 3",
   "language": "python",
   "name": "python3"
  },
  "language_info": {
   "codemirror_mode": {
    "name": "ipython",
    "version": 3
   },
   "file_extension": ".py",
   "mimetype": "text/x-python",
   "name": "python",
   "nbconvert_exporter": "python",
   "pygments_lexer": "ipython3",
   "version": "3.12.10"
  }
 },
 "nbformat": 4,
 "nbformat_minor": 4
}
